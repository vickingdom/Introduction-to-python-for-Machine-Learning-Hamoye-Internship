{
 "cells": [
  {
   "cell_type": "code",
   "execution_count": 1,
   "id": "cafecee6",
   "metadata": {},
   "outputs": [
    {
     "name": "stdout",
     "output_type": "stream",
     "text": [
      "[1, 2, 3, 4, 5, 6, 13, 21, 34]\n"
     ]
    }
   ],
   "source": [
    "#Question 1\n",
    "#If you’re given two lists:\n",
    "#A = [1,2,3,4,5,6], B = [13, 21, 34]\n",
    "#The task is to create a list with the elements of A and B in a single dimension with output:\n",
    "#A_B = [1,2,3,4,5,6,13, 21, 34]\n",
    "#Which of the following option is the best way to create this list?\n",
    "\n",
    "#Answer\n",
    "A = [1,2,3,4,5,6]\n",
    "B = [13,21,34]\n",
    "A.extend(B)\n",
    "print(A)"
   ]
  },
  {
   "cell_type": "code",
   "execution_count": 2,
   "id": "38c0f617",
   "metadata": {},
   "outputs": [
    {
     "name": "stdout",
     "output_type": "stream",
     "text": [
      "[[1. 0. 0.]\n",
      " [0. 1. 0.]\n",
      " [0. 0. 1.]]\n"
     ]
    }
   ],
   "source": [
    "#Question 2\n",
    "#How do you create an identity matrix in python?\n",
    "\n",
    "#Answer\n",
    "import numpy as np\n",
    "\n",
    "ident_matrix = np.identity(3)\n",
    "print(ident_matrix)"
   ]
  },
  {
   "cell_type": "code",
   "execution_count": 4,
   "id": "e7658cc3",
   "metadata": {},
   "outputs": [
    {
     "name": "stdout",
     "output_type": "stream",
     "text": [
      "record_id                         0\n",
      "utility_id_ferc1                  0\n",
      "report_year                       0\n",
      "plant_name_ferc1                  0\n",
      "fuel_type_code_pudl               0\n",
      "fuel_unit                       180\n",
      "fuel_qty_burned                   0\n",
      "fuel_mmbtu_per_unit               0\n",
      "fuel_cost_per_unit_burned         0\n",
      "fuel_cost_per_unit_delivered      0\n",
      "fuel_cost_per_mmbtu               0\n",
      "dtype: int64\n",
      "fuel_type_code_pudl\n",
      "coal         67.421830\n",
      "gas          13.659397\n",
      "nuclear    4955.157002\n",
      "oil         168.877086\n",
      "other        18.253856\n",
      "waste        19.518122\n",
      "Name: fuel_cost_per_unit_burned, dtype: float64\n"
     ]
    }
   ],
   "source": [
    "#Question 3\n",
    "#Which of the following fuel type code has the lowest average fuel cost per unit burned?\n",
    "\n",
    "#Answer\n",
    "import pandas as pd\n",
    "\n",
    "#import the data from github repo\n",
    "url = 'https://github.com/WalePhenomenon/climate_change/blob/master/fuel_ferc1.csv?raw=true'\n",
    "fuel_data = pd.read_csv(url, error_bad_lines = False)\n",
    "\n",
    "#describe the data\n",
    "#print(fuel_data.describe(include='all'))\n",
    "\n",
    "#check for missing values\n",
    "print(fuel_data.isnull().sum())\n",
    "\n",
    "\n",
    "#use groupby to count the sum of each unique value in the fuel unit column\n",
    "fuel_data.groupby(\"fuel_type_code_pudl\")[\"fuel_cost_per_unit_burned\"].count()\n",
    "\n",
    "#calculate the mean for each fuel_type_code_pudl\n",
    "mean_fuel_type_fuel_cost = fuel_data.groupby(\"fuel_type_code_pudl\")[\"fuel_cost_per_unit_burned\"].mean()\n",
    "\n",
    "#print the mean \n",
    "print(mean_fuel_type_fuel_cost)"
   ]
  },
  {
   "cell_type": "code",
   "execution_count": null,
   "id": "3c679284",
   "metadata": {},
   "outputs": [],
   "source": [
    "#Gas"
   ]
  },
  {
   "cell_type": "code",
   "execution_count": 5,
   "id": "6803b11c",
   "metadata": {},
   "outputs": [
    {
     "name": "stdout",
     "output_type": "stream",
     "text": [
      "count    29523.000000\n",
      "mean         8.492111\n",
      "std         10.600220\n",
      "min          0.000001\n",
      "25%          1.024000\n",
      "50%          5.762694\n",
      "75%         17.006000\n",
      "max        341.260000\n",
      "Name: fuel_mmbtu_per_unit, dtype: float64\n"
     ]
    }
   ],
   "source": [
    "#Question 4\n",
    "#What is the standard deviation and 75th percentile of the measure of energy per unit (Fuel_mmbtu_per_unit) in two decimal places?\n",
    "\n",
    "#Answer\n",
    "# describe  Fuel_mmbtu_per_unit to get the 75th the standard deviation and\n",
    "# 75th percentile \n",
    "print(fuel_data[\"fuel_mmbtu_per_unit\"].describe())"
   ]
  },
  {
   "cell_type": "code",
   "execution_count": 6,
   "id": "0b3001fe",
   "metadata": {},
   "outputs": [],
   "source": [
    "#Standard Deviation for Fuel_mmbtu_per_unit is 10.60 to 2 decimal place\n",
    "#75th percentile for Fuel_mmbtu_per_unit is 17.01 to 2 decimal place"
   ]
  },
  {
   "cell_type": "code",
   "execution_count": 7,
   "id": "02bc9f2f",
   "metadata": {},
   "outputs": [
    {
     "name": "stdout",
     "output_type": "stream",
     "text": [
      "Skewness: 15.85\n",
      "Kurtosis: 651.37\n"
     ]
    }
   ],
   "source": [
    "#Question 5\n",
    "#What is the skewness and kurtosis for the fuel quantity burned in two decimal places?\n",
    "\n",
    "#calculate  skewness for  fuel_qty_burned\n",
    "skew_for_the_fuel_qty_burned = fuel_data[\"fuel_qty_burned\"].skew()\n",
    "\n",
    "# print skewness for  fuel_qty_burned in 2 decimal places\n",
    "print('Skewness: %.2f' % (skew_for_the_fuel_qty_burned))\n",
    "\n",
    "#calculate  kurtosis for  fuel_qty_burned\n",
    "kurt_for_the_fuel_qty_burned = fuel_data[\"fuel_qty_burned\"].kurt()\n",
    "\n",
    "# print kurtosis for  fuel_qty_burned in 2 decimal places\n",
    "print('Kurtosis: %.2f' % (kurt_for_the_fuel_qty_burned))"
   ]
  },
  {
   "cell_type": "code",
   "execution_count": 8,
   "id": "6af8ede0",
   "metadata": {},
   "outputs": [
    {
     "name": "stdout",
     "output_type": "stream",
     "text": [
      "record_id                         0\n",
      "utility_id_ferc1                  0\n",
      "report_year                       0\n",
      "plant_name_ferc1                  0\n",
      "fuel_type_code_pudl               0\n",
      "fuel_unit                       180\n",
      "fuel_qty_burned                   0\n",
      "fuel_mmbtu_per_unit               0\n",
      "fuel_cost_per_unit_burned         0\n",
      "fuel_cost_per_unit_delivered      0\n",
      "fuel_cost_per_mmbtu               0\n",
      "dtype: int64\n",
      "Percent: 0.609694136774718\n"
     ]
    }
   ],
   "source": [
    "#Question 6\n",
    "#Which feature has missing values and what is the total number of missing value #and percentage of the missing rows as a factor of the total number of rows in #three decimal places?\n",
    "#(Enter answer in the format: Feature: xxx, Total: xxx, Percent: xxx)\n",
    "\n",
    "#Answer\n",
    "#check for missing values\n",
    "print(fuel_data.isnull().sum())\n",
    "\n",
    "num_of_missing_rows = 180\n",
    "total_rows = 29523\n",
    "\n",
    "#calculate percentage of missing rows\n",
    "perc_of_missing_rows = (num_of_missing_rows/29523)*100\n",
    "#print percentage of missing rows\n",
    "print('Percent:', perc_of_missing_rows)"
   ]
  },
  {
   "cell_type": "code",
   "execution_count": 9,
   "id": "bff6d3ad",
   "metadata": {},
   "outputs": [],
   "source": [
    "#percentage of missing rows is 0.610 "
   ]
  },
  {
   "cell_type": "code",
   "execution_count": 10,
   "id": "9705618e",
   "metadata": {},
   "outputs": [],
   "source": [
    "#Question 7\n",
    "#The feature with missing values falls under what category? What missing value imputation technique would you use?\n",
    "\n",
    "#Answer \n",
    "#Categorical and mode imputation"
   ]
  },
  {
   "cell_type": "code",
   "execution_count": 11,
   "id": "0c0c2f35",
   "metadata": {},
   "outputs": [
    {
     "name": "stdout",
     "output_type": "stream",
     "text": [
      "utility_id_ferc1                0.920774\n",
      "report_year                     1.005239\n",
      "fuel_qty_burned                 0.850576\n",
      "fuel_mmbtu_per_unit             0.716298\n",
      "fuel_cost_per_unit_burned       0.957737\n",
      "fuel_cost_per_unit_delivered    0.967851\n",
      "fuel_cost_per_mmbtu             1.008057\n",
      "dtype: float64\n"
     ]
    }
   ],
   "source": [
    "#Question 8\n",
    "#Which of the features has the second and third lowest correlation with the Fuel Cost Per Unit Burned?\n",
    "\n",
    "#Answer\n",
    "#find the correlation and print\n",
    "print(fuel_data.corr().sum())"
   ]
  },
  {
   "cell_type": "code",
   "execution_count": 12,
   "id": "2f80ddb2",
   "metadata": {},
   "outputs": [],
   "source": [
    "#Feature with second correlation with Fuel Cost Per Unit Burned is fuel_qty_burned (0.850576)\n",
    "#Feature with second correlation with Fuel Cost Per Unit Burned is fuel_mmbtu_per_unit (0.716298)"
   ]
  },
  {
   "cell_type": "code",
   "execution_count": 14,
   "id": "b886183a",
   "metadata": {},
   "outputs": [
    {
     "data": {
      "text/plain": [
       "fuel_type_code_pudl  report_year\n",
       "coal                 1994           14984.572\n",
       "                     1995           14571.785\n",
       "                     1996           12694.803\n",
       "                     1997           43742.178\n",
       "                     1998           11902.597\n",
       "                                      ...    \n",
       "waste                2014             591.594\n",
       "                     2015             629.270\n",
       "                     2016             539.079\n",
       "                     2017             452.079\n",
       "                     2018             660.972\n",
       "Name: fuel_cost_per_unit_burned, Length: 148, dtype: float64"
      ]
     },
     "execution_count": 14,
     "metadata": {},
     "output_type": "execute_result"
    }
   ],
   "source": [
    "#Question 9\n",
    "#For the fuel type coal, what is the percentage change in the fuel cost per unit burned in 1998 compared to 1994?\n",
    "\n",
    "#find the yearly report of fuel_type_code_pudl \n",
    "fuel_data.groupby(['fuel_type_code_pudl','report_year'])['fuel_cost_per_unit_burned'].sum()"
   ]
  },
  {
   "cell_type": "code",
   "execution_count": 15,
   "id": "64504701",
   "metadata": {},
   "outputs": [
    {
     "name": "stdout",
     "output_type": "stream",
     "text": [
      "Percentage change between 1994 and 1998:21%\n"
     ]
    }
   ],
   "source": [
    "fuel_cost_per_unit_burned_in_1994 = 14984.572\n",
    "fuel_cost_per_unit_burned_in_1998 = 11902.597\n",
    "\n",
    "#Percentage change \n",
    "percentage_change = ((fuel_cost_per_unit_burned_in_1994 - fuel_cost_per_unit_burned_in_1998)/fuel_cost_per_unit_burned_in_1994)*100\n",
    "#print percentage change\n",
    "print('Percentage change between 1994 and 1998:%.0f' % percentage_change+'%')"
   ]
  },
  {
   "cell_type": "code",
   "execution_count": 16,
   "id": "cea78d9f",
   "metadata": {},
   "outputs": [
    {
     "name": "stdout",
     "output_type": "stream",
     "text": [
      "report_year\n",
      "1994       63.636060\n",
      "1995       32.735269\n",
      "1996     9196.705948\n",
      "1997    11140.197239\n",
      "1998      287.154420\n",
      "1999       25.551627\n",
      "2000      985.362877\n",
      "2001       60.050396\n",
      "2002       47.594361\n",
      "2003       55.663493\n",
      "2004      139.524275\n",
      "2005       41.438184\n",
      "2006       38.657484\n",
      "2007       43.325023\n",
      "2008       58.588197\n",
      "2009      652.694163\n",
      "2010       91.862105\n",
      "2011       59.774667\n",
      "2012       60.994502\n",
      "2013      172.307591\n",
      "2014      192.737183\n",
      "2015      326.535511\n",
      "2016      103.901761\n",
      "2017       46.196861\n",
      "2018      499.269966\n",
      "Name: fuel_cost_per_unit_delivered, dtype: float64\n"
     ]
    }
   ],
   "source": [
    "#Question 10\n",
    "#Which year has the highest average fuel cost per unit delivered?\n",
    "\n",
    "#calculate the mean for each fuel_type_code_pudl\n",
    "fuel_cost_per_unit_delivered = fuel_data.groupby(\"report_year\")[\"fuel_cost_per_unit_delivered\"].mean()\n",
    "\n",
    "#print mean of fuel_cost_per_unit_delivered per year \n",
    "print(fuel_cost_per_unit_delivered)"
   ]
  },
  {
   "cell_type": "code",
   "execution_count": null,
   "id": "c4df3e9f",
   "metadata": {},
   "outputs": [],
   "source": [
    "#Answer: 1997"
   ]
  }
 ],
 "metadata": {
  "kernelspec": {
   "display_name": "Python 3",
   "language": "python",
   "name": "python3"
  },
  "language_info": {
   "codemirror_mode": {
    "name": "ipython",
    "version": 3
   },
   "file_extension": ".py",
   "mimetype": "text/x-python",
   "name": "python",
   "nbconvert_exporter": "python",
   "pygments_lexer": "ipython3",
   "version": "3.8.10"
  }
 },
 "nbformat": 4,
 "nbformat_minor": 5
}
